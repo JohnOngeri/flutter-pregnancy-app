{
 "cells": [
  {
   "cell_type": "code",
   "execution_count": 2,
   "metadata": {},
   "outputs": [
    {
     "name": "stdout",
     "output_type": "stream",
     "text": [
      "Requirement already satisfied: pandas in c:\\users\\hp\\appdata\\local\\programs\\python\\python312\\lib\\site-packages (2.2.3)Note: you may need to restart the kernel to use updated packages.\n",
      "\n",
      "Requirement already satisfied: numpy in c:\\users\\hp\\appdata\\local\\programs\\python\\python312\\lib\\site-packages (2.2.3)\n",
      "Requirement already satisfied: scikit-learn in c:\\users\\hp\\appdata\\local\\programs\\python\\python312\\lib\\site-packages (1.6.1)\n",
      "Requirement already satisfied: matplotlib in c:\\users\\hp\\appdata\\local\\programs\\python\\python312\\lib\\site-packages (3.10.0)\n",
      "Collecting seaborn\n",
      "  Downloading seaborn-0.13.2-py3-none-any.whl.metadata (5.4 kB)\n",
      "Requirement already satisfied: joblib in c:\\users\\hp\\appdata\\local\\programs\\python\\python312\\lib\\site-packages (1.4.2)\n",
      "Requirement already satisfied: python-dateutil>=2.8.2 in c:\\users\\hp\\appdata\\roaming\\python\\python312\\site-packages (from pandas) (2.9.0.post0)\n",
      "Requirement already satisfied: pytz>=2020.1 in c:\\users\\hp\\appdata\\local\\programs\\python\\python312\\lib\\site-packages (from pandas) (2025.1)\n",
      "Requirement already satisfied: tzdata>=2022.7 in c:\\users\\hp\\appdata\\local\\programs\\python\\python312\\lib\\site-packages (from pandas) (2025.1)\n",
      "Requirement already satisfied: scipy>=1.6.0 in c:\\users\\hp\\appdata\\local\\programs\\python\\python312\\lib\\site-packages (from scikit-learn) (1.15.2)\n",
      "Requirement already satisfied: threadpoolctl>=3.1.0 in c:\\users\\hp\\appdata\\local\\programs\\python\\python312\\lib\\site-packages (from scikit-learn) (3.5.0)\n",
      "Requirement already satisfied: contourpy>=1.0.1 in c:\\users\\hp\\appdata\\local\\programs\\python\\python312\\lib\\site-packages (from matplotlib) (1.3.1)\n",
      "Requirement already satisfied: cycler>=0.10 in c:\\users\\hp\\appdata\\local\\programs\\python\\python312\\lib\\site-packages (from matplotlib) (0.12.1)\n",
      "Requirement already satisfied: fonttools>=4.22.0 in c:\\users\\hp\\appdata\\local\\programs\\python\\python312\\lib\\site-packages (from matplotlib) (4.56.0)\n",
      "Requirement already satisfied: kiwisolver>=1.3.1 in c:\\users\\hp\\appdata\\local\\programs\\python\\python312\\lib\\site-packages (from matplotlib) (1.4.8)\n",
      "Requirement already satisfied: packaging>=20.0 in c:\\users\\hp\\appdata\\roaming\\python\\python312\\site-packages (from matplotlib) (24.2)\n",
      "Requirement already satisfied: pillow>=8 in c:\\users\\hp\\appdata\\local\\programs\\python\\python312\\lib\\site-packages (from matplotlib) (11.1.0)\n",
      "Requirement already satisfied: pyparsing>=2.3.1 in c:\\users\\hp\\appdata\\local\\programs\\python\\python312\\lib\\site-packages (from matplotlib) (3.2.1)\n",
      "Requirement already satisfied: six>=1.5 in c:\\users\\hp\\appdata\\roaming\\python\\python312\\site-packages (from python-dateutil>=2.8.2->pandas) (1.17.0)\n",
      "Downloading seaborn-0.13.2-py3-none-any.whl (294 kB)\n",
      "Installing collected packages: seaborn\n",
      "Successfully installed seaborn-0.13.2\n"
     ]
    },
    {
     "name": "stderr",
     "output_type": "stream",
     "text": [
      "\n",
      "[notice] A new release of pip is available: 25.0 -> 25.0.1\n",
      "[notice] To update, run: python.exe -m pip install --upgrade pip\n"
     ]
    }
   ],
   "source": [
    "# Install necessary libraries (if not already installed)\n",
    "%pip install pandas numpy scikit-learn matplotlib seaborn joblib\n",
    "\n",
    "# Import required libraries\n",
    "import pandas as pd\n",
    "import numpy as np\n",
    "import matplotlib.pyplot as plt\n",
    "import seaborn as sns\n",
    "from sklearn.model_selection import train_test_split\n",
    "from sklearn.preprocessing import StandardScaler\n",
    "from sklearn.linear_model import LinearRegression\n",
    "from sklearn.tree import DecisionTreeRegressor\n",
    "from sklearn.ensemble import RandomForestRegressor\n",
    "from sklearn.metrics import mean_squared_error\n",
    "import joblib\n"
   ]
  },
  {
   "cell_type": "code",
   "execution_count": 3,
   "metadata": {},
   "outputs": [
    {
     "name": "stdout",
     "output_type": "stream",
     "text": [
      "     ID  Length  Birthweight  Headcirc  Gestation  smoker  mage  mnocig  \\\n",
      "0  1360      56         4.55        34         44       0    20       0   \n",
      "1  1016      53         4.32        36         40       0    19       0   \n",
      "2   462      58         4.10        39         41       0    35       0   \n",
      "3  1187      53         4.07        38         44       0    20       0   \n",
      "4   553      54         3.94        37         42       0    24       0   \n",
      "\n",
      "   mheight  mppwt  fage  fedyrs  fnocig  fheight  lowbwt  mage35  \n",
      "0      162     57    23      10      35      179       0       0  \n",
      "1      171     62    19      12       0      183       0       0  \n",
      "2      172     58    31      16      25      185       0       1  \n",
      "3      174     68    26      14      25      189       0       0  \n",
      "4      175     66    30      12       0      184       0       0  \n"
     ]
    }
   ],
   "source": [
    "# Load the dataset\n",
    "file_path = \"C:/flutter-projects/flutter-pregnancy-app/Machine_Learning/task 2/Birthweight_reduced_kg_R.csv\"  # Update the path if needed\n",
    "df = pd.read_csv(file_path)\n",
    "\n",
    "# Display the first few rows\n",
    "print(df.head())"
   ]
  },
  {
   "cell_type": "code",
   "execution_count": 4,
   "metadata": {},
   "outputs": [
    {
     "name": "stdout",
     "output_type": "stream",
     "text": [
      "Feature Matrix Shape: (42, 15)\n",
      "Target Variable Shape: (42,)\n"
     ]
    }
   ],
   "source": [
    "# Define features (X) and target (y)\n",
    "X = df.drop(columns=[\"Birthweight\"])  # Assuming \"Birthweight\" is the target variable\n",
    "y = df[\"Birthweight\"]\n",
    "\n",
    "# Display dataset dimensions\n",
    "print(\"Feature Matrix Shape:\", X.shape)\n",
    "print(\"Target Variable Shape:\", y.shape)\n"
   ]
  },
  {
   "cell_type": "code",
   "execution_count": 5,
   "metadata": {},
   "outputs": [
    {
     "name": "stdout",
     "output_type": "stream",
     "text": [
      "Training set size: 33\n",
      "Testing set size: 9\n"
     ]
    }
   ],
   "source": [
    "# Split into 80% training and 20% testing\n",
    "X_train, X_test, y_train, y_test = train_test_split(X, y, test_size=0.2, random_state=42)\n",
    "\n",
    "# Confirm the split\n",
    "print(\"Training set size:\", X_train.shape[0])\n",
    "print(\"Testing set size:\", X_test.shape[0])\n"
   ]
  },
  {
   "cell_type": "code",
   "execution_count": 6,
   "metadata": {},
   "outputs": [
    {
     "data": {
      "text/plain": [
       "['scaler.pkl']"
      ]
     },
     "execution_count": 6,
     "metadata": {},
     "output_type": "execute_result"
    }
   ],
   "source": [
    "# Initialize a scaler\n",
    "scaler = StandardScaler()\n",
    "\n",
    "# Fit and transform training data\n",
    "X_train_scaled = scaler.fit_transform(X_train)\n",
    "\n",
    "# Transform test data\n",
    "X_test_scaled = scaler.transform(X_test)\n",
    "\n",
    "# Save the scaler for later use\n",
    "joblib.dump(scaler, \"scaler.pkl\")\n"
   ]
  },
  {
   "cell_type": "code",
   "execution_count": 8,
   "metadata": {},
   "outputs": [
    {
     "name": "stdout",
     "output_type": "stream",
     "text": [
      "Linear Regression RMSE: 0.16\n",
      "Decision Tree RMSE: 0.16\n",
      "Random Forest RMSE: 0.19\n"
     ]
    }
   ],
   "source": [
    "# Initialize models\n",
    "lr = LinearRegression()\n",
    "dt = DecisionTreeRegressor(random_state=42)\n",
    "rf = RandomForestRegressor(n_estimators=100, random_state=42)\n",
    "\n",
    "# Train models\n",
    "lr.fit(X_train_scaled, y_train)\n",
    "dt.fit(X_train_scaled, y_train)\n",
    "rf.fit(X_train_scaled, y_train)\n",
    "\n",
    "# Predict on test data\n",
    "y_pred_lr = lr.predict(X_test_scaled)\n",
    "y_pred_dt = dt.predict(X_test_scaled)\n",
    "y_pred_rf = rf.predict(X_test_scaled)\n",
    "\n",
    "# Evaluate models using RMSE\n",
    "rmse_lr = mean_squared_error(y_test, y_pred_lr)\n",
    "rmse_dt = mean_squared_error(y_test, y_pred_dt)\n",
    "rmse_rf = mean_squared_error(y_test, y_pred_rf)\n",
    "\n",
    "print(f\"Linear Regression RMSE: {rmse_lr:.2f}\")\n",
    "print(f\"Decision Tree RMSE: {rmse_dt:.2f}\")\n",
    "print(f\"Random Forest RMSE: {rmse_rf:.2f}\")\n"
   ]
  },
  {
   "cell_type": "code",
   "execution_count": 9,
   "metadata": {},
   "outputs": [
    {
     "name": "stdout",
     "output_type": "stream",
     "text": [
      "Best Model: Linear Regression saved as best_model.pkl\n"
     ]
    }
   ],
   "source": [
    "# Select the best model based on RMSE\n",
    "best_model = None\n",
    "best_model_name = \"\"\n",
    "best_rmse = min(rmse_lr, rmse_dt, rmse_rf)\n",
    "\n",
    "if best_rmse == rmse_lr:\n",
    "    best_model = lr\n",
    "    best_model_name = \"Linear Regression\"\n",
    "elif best_rmse == rmse_dt:\n",
    "    best_model = dt\n",
    "    best_model_name = \"Decision Tree\"\n",
    "else:\n",
    "    best_model = rf\n",
    "    best_model_name = \"Random Forest\"\n",
    "\n",
    "# Save the best model\n",
    "joblib.dump(best_model, \"best_model.pkl\")\n",
    "\n",
    "print(f\"Best Model: {best_model_name} saved as best_model.pkl\")\n"
   ]
  },
  {
   "cell_type": "code",
   "execution_count": 10,
   "metadata": {},
   "outputs": [
    {
     "name": "stdout",
     "output_type": "stream",
     "text": [
      "Predicted Birthweight: 1.90 kg\n"
     ]
    },
    {
     "name": "stderr",
     "output_type": "stream",
     "text": [
      "c:\\Users\\HP\\AppData\\Local\\Programs\\Python\\Python312\\Lib\\site-packages\\sklearn\\utils\\validation.py:2739: UserWarning: X does not have valid feature names, but StandardScaler was fitted with feature names\n",
      "  warnings.warn(\n"
     ]
    }
   ],
   "source": [
    "# Load the best model\n",
    "loaded_model = joblib.load(\"best_model.pkl\")\n",
    "\n",
    "# Example input (modify based on your dataset)\n",
    "sample_input = np.array([X_test.iloc[0]])  # Using first test example\n",
    "sample_input_scaled = scaler.transform(sample_input)\n",
    "\n",
    "# Predict\n",
    "predicted_bw = loaded_model.predict(sample_input_scaled)[0]\n",
    "\n",
    "print(f\"Predicted Birthweight: {predicted_bw:.2f} kg\")\n"
   ]
  }
 ],
 "metadata": {
  "kernelspec": {
   "display_name": "Python 3",
   "language": "python",
   "name": "python3"
  },
  "language_info": {
   "codemirror_mode": {
    "name": "ipython",
    "version": 3
   },
   "file_extension": ".py",
   "mimetype": "text/x-python",
   "name": "python",
   "nbconvert_exporter": "python",
   "pygments_lexer": "ipython3",
   "version": "3.12.0"
  }
 },
 "nbformat": 4,
 "nbformat_minor": 2
}
