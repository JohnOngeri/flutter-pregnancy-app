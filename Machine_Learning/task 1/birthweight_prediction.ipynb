{
 "cells": [
  {
   "cell_type": "markdown",
   "metadata": {},
   "source": [
    "Birthweight Prediction: Introduction\n",
    "Birthweight is an important indicator of long-term health. Babies with low birthweight are more susceptible to illness in the short-term and could have an increased risk of developing high blood pressure and diabetes in the long term. Similarly, high birthweight is linked to obesity. The goal of this notebook is to predict the birthweight of babies based on gestation, parity, age, height, weight, and smoking"
   ]
  },
  {
   "cell_type": "code",
   "execution_count": 56,
   "metadata": {},
   "outputs": [
    {
     "name": "stdout",
     "output_type": "stream",
     "text": [
      "Requirement already satisfied: pandas in c:\\users\\hp\\appdata\\local\\programs\\python\\python312\\lib\\site-packages (2.2.3)\n",
      "Requirement already satisfied: numpy in c:\\users\\hp\\appdata\\local\\programs\\python\\python312\\lib\\site-packages (2.2.3)\n",
      "Requirement already satisfied: joblib in c:\\users\\hp\\appdata\\local\\programs\\python\\python312\\lib\\site-packages (1.4.2)\n",
      "Requirement already satisfied: scikit-learn in c:\\users\\hp\\appdata\\local\\programs\\python\\python312\\lib\\site-packages (1.6.1)\n",
      "Requirement already satisfied: python-dateutil>=2.8.2 in c:\\users\\hp\\appdata\\roaming\\python\\python312\\site-packages (from pandas) (2.9.0.post0)\n",
      "Requirement already satisfied: pytz>=2020.1 in c:\\users\\hp\\appdata\\local\\programs\\python\\python312\\lib\\site-packages (from pandas) (2025.1)\n",
      "Requirement already satisfied: tzdata>=2022.7 in c:\\users\\hp\\appdata\\local\\programs\\python\\python312\\lib\\site-packages (from pandas) (2025.1)\n",
      "Requirement already satisfied: scipy>=1.6.0 in c:\\users\\hp\\appdata\\local\\programs\\python\\python312\\lib\\site-packages (from scikit-learn) (1.15.2)\n",
      "Requirement already satisfied: threadpoolctl>=3.1.0 in c:\\users\\hp\\appdata\\local\\programs\\python\\python312\\lib\\site-packages (from scikit-learn) (3.5.0)\n",
      "Requirement already satisfied: six>=1.5 in c:\\users\\hp\\appdata\\roaming\\python\\python312\\site-packages (from python-dateutil>=2.8.2->pandas) (1.17.0)\n",
      "Note: you may need to restart the kernel to use updated packages.\n"
     ]
    },
    {
     "name": "stderr",
     "output_type": "stream",
     "text": [
      "\n",
      "[notice] A new release of pip is available: 25.0 -> 25.0.1\n",
      "[notice] To update, run: python.exe -m pip install --upgrade pip\n"
     ]
    }
   ],
   "source": [
    "pip install pandas numpy joblib scikit-learn"
   ]
  },
  {
   "cell_type": "markdown",
   "metadata": {},
   "source": [
    "Importing Necessary Libraries"
   ]
  },
  {
   "cell_type": "code",
   "execution_count": 57,
   "metadata": {},
   "outputs": [],
   "source": [
    "import pandas as pd\n",
    "import numpy as np\n",
    "import joblib\n",
    "from sklearn.model_selection import train_test_split\n",
    "from sklearn.preprocessing import StandardScaler\n",
    "from sklearn.linear_model import LinearRegression\n",
    "from sklearn.tree import DecisionTreeRegressor\n",
    "from sklearn.ensemble import RandomForestRegressor\n",
    "from sklearn.metrics import mean_squared_error\n"
   ]
  },
  {
   "cell_type": "markdown",
   "metadata": {},
   "source": [
    " load the dataset and display basic information:"
   ]
  },
  {
   "cell_type": "code",
   "execution_count": 1,
   "metadata": {},
   "outputs": [
    {
     "name": "stdout",
     "output_type": "stream",
     "text": [
      "   case  bwt  gestation  parity   age  height  weight  smoke\n",
      "0     1  120      284.0       0  27.0    62.0   100.0    0.0\n",
      "1     2  113      282.0       0  33.0    64.0   135.0    0.0\n",
      "2     3  128      279.0       0  28.0    64.0   115.0    1.0\n",
      "3     4  123        NaN       0  36.0    69.0   190.0    0.0\n",
      "4     5  108      282.0       0  23.0    67.0   125.0    1.0\n"
     ]
    }
   ],
   "source": [
    "import pandas as pd\n",
    "\n",
    "# Load dataset\n",
    "df = pd.read_csv(r\"C:\\flutter-projects\\flutter-pregnancy-app\\Machine_Learning\\task 1\\babies.csv\")\n",
    "\n",
    "# Display first few rows\n",
    "print(df.head())"
   ]
  },
  {
   "cell_type": "markdown",
   "metadata": {},
   "source": [
    "Selecting Features and Target Variable"
   ]
  },
  {
   "cell_type": "code",
   "execution_count": 59,
   "metadata": {},
   "outputs": [],
   "source": [
    "# Selecting relevant features and target\n",
    "features = [\"gestation\", \"parity\", \"age\", \"height\", \"weight\", \"smoke\"]\n",
    "target = \"bwt\"\n",
    "\n",
    "X = df[features]\n",
    "y = df[target]\n",
    "\n",
    "# Ensure birthweight is in grams and within a reasonable range\n",
    "y = np.clip(y, 2500, 4500)  # Clipping extreme values Birthweights below 2500g are considered low birthweight, and extremely low values (e.g., 216.31g) are highly unrealistic.\n",
    "#Birthweights above 4500g are considered high birthweight and are rare."
   ]
  },
  {
   "cell_type": "markdown",
   "metadata": {},
   "source": [
    " Spliting Data into Training and Testing Sets"
   ]
  },
  {
   "cell_type": "code",
   "execution_count": 60,
   "metadata": {},
   "outputs": [],
   "source": [
    "# Drop rows with missing values from both X and y\n",
    "df_dropped = df.dropna(subset=[\"gestation\", \"parity\", \"age\", \"height\", \"weight\", \"smoke\", \"bwt\"])\n",
    "\n",
    "# Split the data into features and target\n",
    "X_dropped = df_dropped[[\"gestation\", \"parity\", \"age\", \"height\", \"weight\", \"smoke\"]]\n",
    "y_dropped = df_dropped[\"bwt\"]\n",
    "\n",
    "# Split the data into training and testing sets\n",
    "from sklearn.model_selection import train_test_split\n",
    "X_train, X_test, y_train, y_test = train_test_split(X_dropped, y_dropped, test_size=0.2, random_state=42)\n",
    "\n",
    "# Scale the features\n",
    "scaler = StandardScaler()\n",
    "X_train_scaled = scaler.fit_transform(X_train)\n",
    "X_test_scaled = scaler.transform(X_test)\n",
    "\n",
    "# Get the feature names from X_train\n",
    "feature_names = X_train.columns\n",
    "\n"
   ]
  },
  {
   "cell_type": "markdown",
   "metadata": {},
   "source": [
    "Scale the Features,,This ensures all features have similar scales for better model performance.\n",
    "\n"
   ]
  },
  {
   "cell_type": "code",
   "execution_count": 61,
   "metadata": {},
   "outputs": [],
   "source": [
    "# Create a new StandardScaler object with the feature names\n",
    "scaler = StandardScaler()\n",
    "scaler.feature_names_in_ = feature_names\n",
    "X_train_scaled = scaler.fit_transform(X_train)\n",
    "X_test_scaled = scaler.transform(X_test)"
   ]
  },
  {
   "cell_type": "markdown",
   "metadata": {},
   "source": [
    " train and compare models:to compare the performance of different models."
   ]
  },
  {
   "cell_type": "code",
   "execution_count": 62,
   "metadata": {},
   "outputs": [
    {
     "name": "stdout",
     "output_type": "stream",
     "text": [
      "Linear Regression RMSE: 16.11\n",
      "Decision Tree RMSE: 17.88\n",
      "Random Forest RMSE: 16.47\n"
     ]
    }
   ],
   "source": [
    "# Train models\n",
    "lin_reg = LinearRegression()\n",
    "lin_reg.fit(X_train_scaled, y_train)\n",
    "lin_reg_pred = lin_reg.predict(X_test_scaled)\n",
    "lin_reg_rmse = np.sqrt(mean_squared_error(y_test, lin_reg_pred))\n",
    "\n",
    "\n",
    "# Decision Tree\n",
    "tree_reg = DecisionTreeRegressor(random_state=42, max_depth=5) #max_depth=5 for Decision Tree → Prevents overfitting.\n",
    "tree_reg.fit(X_train, y_train)\n",
    "tree_pred = tree_reg.predict(X_test)\n",
    "tree_rmse = np.sqrt(mean_squared_error(y_test, tree_pred))\n",
    "\n",
    "# Random Forest\n",
    "rf_reg = RandomForestRegressor(n_estimators=100, random_state=42, max_depth=7)#max_depth=7 for Random Forest → Balances between capturing patterns and generalization.\n",
    "rf_reg.fit(X_train, y_train)\n",
    "rf_pred = rf_reg.predict(X_test)\n",
    "rf_rmse = np.sqrt(mean_squared_error(y_test, rf_pred))\n",
    "\n",
    "# Display RMSE values\n",
    "print(f\"Linear Regression RMSE: {lin_reg_rmse:.2f}\")\n",
    "print(f\"Decision Tree RMSE: {tree_rmse:.2f}\")\n",
    "print(f\"Random Forest RMSE: {rf_rmse:.2f}\")\n"
   ]
  },
  {
   "cell_type": "markdown",
   "metadata": {},
   "source": [
    "Determining the best model and save it along with the scaler:This ensures you have the best model available for making predictions."
   ]
  },
  {
   "cell_type": "code",
   "execution_count": 63,
   "metadata": {},
   "outputs": [
    {
     "data": {
      "text/plain": [
       "['scaler.pkl']"
      ]
     },
     "execution_count": 63,
     "metadata": {},
     "output_type": "execute_result"
    }
   ],
   "source": [
    "# Choose best model\n",
    "best_model = min([(lin_reg, lin_reg_rmse), (tree_reg, tree_rmse), (rf_reg, rf_rmse)], key=lambda x: x[1])[0]\n",
    "\n",
    "# Save best model and scaler\n",
    "joblib.dump(best_model, \"best_model.pkl\")\n",
    "joblib.dump(scaler, \"scaler.pkl\")\n"
   ]
  },
  {
   "cell_type": "markdown",
   "metadata": {},
   "source": [
    "a Prediction Function:This function will allow  to make predictions on new data."
   ]
  },
  {
   "cell_type": "code",
   "execution_count": 64,
   "metadata": {},
   "outputs": [],
   "source": [
    "def predict_birthweight(gestation, parity, age, height, weight, smoke):\n",
    "    model = joblib.load(\"best_model.pkl\")\n",
    "    scaler = joblib.load(\"scaler.pkl\")\n",
    "    input_data = np.array([[gestation, parity, age, height, weight, smoke]])\n",
    "    input_scaled = scaler.transform(input_data)\n",
    "    predicted_weight = model.predict(input_scaled)[0]\n",
    "    return max(2500, min(predicted_weight, 4500))  # Ensure realistic birthweight range\n"
   ]
  },
  {
   "cell_type": "markdown",
   "metadata": {},
   "source": [
    ". Testing the Prediction Function:confirms that the model is working as expected."
   ]
  },
  {
   "cell_type": "code",
   "execution_count": 65,
   "metadata": {},
   "outputs": [
    {
     "name": "stdout",
     "output_type": "stream",
     "text": [
      "Predicted Birthweight: 2500.00 grams\n"
     ]
    },
    {
     "name": "stderr",
     "output_type": "stream",
     "text": [
      "c:\\Users\\HP\\AppData\\Local\\Programs\\Python\\Python312\\Lib\\site-packages\\sklearn\\utils\\validation.py:2739: UserWarning: X does not have valid feature names, but StandardScaler was fitted with feature names\n",
      "  warnings.warn(\n"
     ]
    }
   ],
   "source": [
    "# Example usage\n",
    "print(f\"Predicted Birthweight: {predict_birthweight(280, 1, 30, 160, 65, 0):.2f} grams\")\n"
   ]
  }
 ],
 "metadata": {
  "kernelspec": {
   "display_name": "Python 3",
   "language": "python",
   "name": "python3"
  },
  "language_info": {
   "codemirror_mode": {
    "name": "ipython",
    "version": 3
   },
   "file_extension": ".py",
   "mimetype": "text/x-python",
   "name": "python",
   "nbconvert_exporter": "python",
   "pygments_lexer": "ipython3",
   "version": "3.12.0rc1"
  }
 },
 "nbformat": 4,
 "nbformat_minor": 2
}
